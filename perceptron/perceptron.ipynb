{
 "cells": [
  {
   "cell_type": "markdown",
   "metadata": {},
   "source": [
    "# Perceptron implementation from scratch in Python\n",
    "\n",
    "Please note that contents in this notebook do not emphasize on concepts of the algorithm, but more on the implementation of the algorithm itself in the programming language.\n",
    "\n",
    "## Basics \n",
    "\n",
    "Some notes about Perceptron algorithm:\n",
    "- It's a supervised learning algorithm for binary classification\n",
    "- 'Binary' means that the label will only have 2 values: 'yes' or 'no', '-1' or '1', ...\n",
    "- A simple algorithm that only works with **linearly separable** dataset. This means that given a dataset, there will always exist a line, a plane or hyperplane that can successfully separate the input data into 2 groups.\n",
    "- This is the building block for Neural Networks and Deep Learning\n",
    "\n",
    "In the most basic terms, Perceptron is a function that maps input `x` (a vector or matrix of values) to an ouput `f(x)` (a single binary value):\n",
    "\n",
    "![](./img/perceptron.png)\n",
    "\n",
    "## Mathematically\n",
    "\n",
    "In math form, the Perceptron algorithm looks like this:\n",
    "\n",
    "$$f(\\mathbf{x}) = \\begin{cases}1 & \\text{if }\\ \\mathbf{w} \\cdot \\mathbf{x} + b \\ge 0\\\\-1 & \\text{otherwise}\\end{cases}$$\n",
    "\n",
    "The output (here is either -1 or +1) can be deduced from something called an **activation function**\n",
    "\n",
    "The **activation function** can be represented in Python easily as following:"
   ]
  },
  {
   "cell_type": "code",
   "execution_count": 2,
   "metadata": {},
   "outputs": [],
   "source": [
    "def activation_func(some_number):\n",
    "    if some_number >= 0:\n",
    "        return 1\n",
    "    else:\n",
    "        return -1"
   ]
  },
  {
   "cell_type": "markdown",
   "metadata": {},
   "source": [
    "Here, `some_number` is in fact the weighted sum of the input data and the weights. Fortunately, in Python, specifically `numpy`, we have a built-in function that does exactly the above, called `numpy.sign()`. In this implementation, we will use this function instead of building our own."
   ]
  },
  {
   "cell_type": "markdown",
   "metadata": {},
   "source": [
    "## The algorithm\n",
    "\n",
    "The Perceptron algorithms can be expressed as following:\n",
    "1. For every input, multiply the input with its weight. In the first iteration, `weights` can be initialized to some random value(s)\n",
    "2. Sum all of the weighted inputs\n",
    "3. Compute the output of the perceptron based on the sum in step 2 that passed to the activation function. In other words, **the output of the perceptron is the sign of the weighted sum.**\n",
    "4. Compare and compute the error from what returned from **step 3** with the ground truth (true label). If the Perceptron returns incorrect result, adjust the weights accordingly.\n",
    "5. Repeat step 1 - 4 until the converge\n",
    "\n",
    "As mentioned above, what returned by the Perceptron is a binary output, in this case we will use `1` and `-1`. \n",
    "\n"
   ]
  },
  {
   "cell_type": "code",
   "execution_count": 3,
   "metadata": {},
   "outputs": [],
   "source": [
    "def guess(data_point):\n",
    "    weighted_sum = np.sum(data_point * weights)\n",
    "    \n",
    "    # Using np.sign() to get the output for the weighted sum\n",
    "    # If weighted_sum >= 0, return 1, otherwise -1\n",
    "    return np.sign(weighted_sum)"
   ]
  },
  {
   "cell_type": "markdown",
   "metadata": {},
   "source": [
    "From the guessed output, error can be computed by following intuitive formula:\n",
    "\n",
    "$$error = prediction - target$$\n",
    "\n",
    "If the Perceptron returns correct result, the `error` will be 0, and non-zero otherwise. It can be represented in below table:\n",
    "\n",
    "| target | prediction | error |\n",
    "|--------|------------|-------|\n",
    "| +1     | +1         | 0     |\n",
    "| +1     | -1         | 2     |\n",
    "| -1     | +1         | -2    |\n",
    "| -1     | -1         | 0     |\n",
    "\n",
    "Based on the error, we will have to adjust the weights:\n",
    "\n",
    "$$new Weight = old Weight + error * input$$\n",
    "\n",
    "Another thing that worth mentioning is the **learning rate**. The procedure in which we gradually adjust the weights is called **gradient descent**, where we try to find the weights that minimize error. The value of learning rate is important because if it's too small, the algorithm will take too long to converge. In contrast, if it's too big, we might miss the optimal value.\n",
    "\n",
    "We can include the learning rate into our calculation of `newWeight`:\n",
    "$$newWeight = oldWeight + error * input * learningRate$$\n",
    "\n",
    "This is done iteratively for every input until the algorithm converges, meaning all `predictions` are same as `targets`. Here's our training function:"
   ]
  },
  {
   "cell_type": "code",
   "execution_count": 4,
   "metadata": {},
   "outputs": [],
   "source": [
    "def fit(data_point, label): \n",
    "    prediction = guess(data_point)\n",
    "    error = label - prediction\n",
    "    \n",
    "    # lr = learning rate\n",
    "    weights += error * data_point * lr "
   ]
  },
  {
   "cell_type": "markdown",
   "metadata": {},
   "source": [
    "After *fitting* all training data, what we get is the final set of weights that can be applied to new data to predict their labels.\n",
    "\n",
    "That's it, it's really simple because Perceptron is a very simple algorithm."
   ]
  },
  {
   "cell_type": "markdown",
   "metadata": {},
   "source": [
    "## Testing\n",
    "\n",
    "In order to test our algorithm, we will classify a list of points in a 2D graph. \n",
    "1. Generate a list of points with random coordinate `(x, y)` used as our training data\n",
    "2. Each point will have a label following these rules:\n",
    "   - if `x >= y`, `label = 1`\n",
    "   - otherwise, `label = -1`\n",
    "3. Generate another list of random points to be used as test data\n",
    "4. Pass all points from the training data to the Perceptron\n",
    "5. Use the generated `weights` to predict the label of the points in test data\n",
    "\n",
    "The expected output should be that all points from test data must have `label = 1` if `x >= y` and `label = -1` otherwise."
   ]
  },
  {
   "cell_type": "code",
   "execution_count": 6,
   "metadata": {},
   "outputs": [],
   "source": [
    "# our Point class\n",
    "class Point(object):\n",
    "    def __init__(self, x, y, label=1):\n",
    "        \n",
    "        self.x = x\n",
    "        self.y = y\n",
    "        \n",
    "        if x >= y:\n",
    "            label = 1\n",
    "        else:\n",
    "            label = -1\n",
    "        self.label = label"
   ]
  },
  {
   "cell_type": "markdown",
   "metadata": {},
   "source": [
    "Generate training and test data:"
   ]
  },
  {
   "cell_type": "code",
   "execution_count": 7,
   "metadata": {},
   "outputs": [],
   "source": [
    "# Generate random training data from Point class and plot\n",
    "number_of_training_points = 100\n",
    "number_of_testing_points = 40\n",
    "\n",
    "train_data = []\n",
    "for i in range(number_of_training_points):\n",
    "    point = Point(  np.random.randint(0, 100),\n",
    "                    np.random.randint(0, 100) )\n",
    "\n",
    "    train_data.append([point.x, point.y, point.label])\n",
    "        \n",
    "train = pd.DataFrame(data=train_data, columns=['x', 'y', 'label'])\n",
    "\n",
    "# Similarly, generate random test data without labels\n",
    "test_data = []\n",
    "for i in range(number_of_testing_points):\n",
    "    point = Point(  np.random.randint(0, 100),\n",
    "                    np.random.randint(0, 100))\n",
    "\n",
    "    test_data.append([point.x, point.y])\n",
    "        \n",
    "test = pd.DataFrame(data=test_data, columns=['x', 'y'])"
   ]
  },
  {
   "cell_type": "markdown",
   "metadata": {},
   "source": [
    "What do they look like?"
   ]
  },
  {
   "cell_type": "code",
   "execution_count": 8,
   "metadata": {},
   "outputs": [
    {
     "data": {
      "text/plain": [
       "<matplotlib.axes._subplots.AxesSubplot at 0x7f73799d2358>"
      ]
     },
     "execution_count": 8,
     "metadata": {},
     "output_type": "execute_result"
    },
    {
     "data": {
      "image/png": "[encoded data removed]",
      "text/plain": [
       "<Figure size 504x504 with 1 Axes>"
      ]
     },
     "metadata": {
      "needs_background": "light"
     },
     "output_type": "display_data"
    }
   ],
   "source": [
    "fig, ax = plt.subplots(1, 1, figsize=(7,7))\n",
    "sns.scatterplot(train[train.label==1].x, train[train.label==1].y, color='black', marker='s')\n",
    "sns.scatterplot(train[train.label==-1].x, train[train.label==-1].y, color='green', marker='+')\n",
    "sns.scatterplot(test.x, test.y, color='red')\n",
    "sns.lineplot([0, 100], [0, 100], color='blue')"
   ]
  },
  {
   "cell_type": "markdown",
   "metadata": {},
   "source": [
    "Here are observations from above plot:\n",
    "- Points represented by **black squares** have `label = 1`\n",
    "- Points represented by **green crosses (+)** have `label = -1`\n",
    "- Points represented by **red circles** are our test data\n",
    "\n",
    "After training data and predict the label for test set, we expect that all red circles will be classified into either black squares or green crosses.\n",
    "\n",
    "Now we will train the training data:"
   ]
  },
  {
   "cell_type": "code",
   "execution_count": 9,
   "metadata": {},
   "outputs": [
    {
     "name": "stdout",
     "output_type": "stream",
     "text": [
      "Weights: [20.066883520866234, -19.733116479133766]\n"
     ]
    }
   ],
   "source": [
    "X = train[['x', 'y']]\n",
    "y = train.label\n",
    "\n",
    "brain = Perceptron()\n",
    "\n",
    "# Initialize random weights\n",
    "brain.init_weights(X.values)\n",
    "\n",
    "# Feed each and every point from the training data to the Perceptron\n",
    "for i in range(X.shape[0]):\n",
    "    brain.fit(X.iloc[i], y[i])\n",
    "    \n",
    "# What are our weights?\n",
    "print(\"Weights: {}\".format(list(brain.weights)))"
   ]
  },
  {
   "cell_type": "markdown",
   "metadata": {},
   "source": [
    "Predicting labels for the test set:"
   ]
  },
  {
   "cell_type": "code",
   "execution_count": 10,
   "metadata": {},
   "outputs": [
    {
     "data": {
      "text/plain": [
       "array([-1.,  1.,  1., -1., -1.,  1., -1.,  1.,  1., -1., -1.,  1., -1.,\n",
       "        1., -1.,  1.,  1.,  1., -1.,  1., -1., -1.,  1.,  1.,  1., -1.,\n",
       "        1.,  1., -1.,  1., -1., -1.,  1., -1., -1., -1.,  1., -1.,  1.,\n",
       "       -1.])"
      ]
     },
     "execution_count": 10,
     "metadata": {},
     "output_type": "execute_result"
    }
   ],
   "source": [
    "predictions = brain.predict(test)\n",
    "predictions"
   ]
  },
  {
   "cell_type": "markdown",
   "metadata": {},
   "source": [
    "## How accurate is our prediction?\n",
    "\n",
    "To check the accuracy of our model, we will plot the test points again. But this time:\n",
    "- if the test point has `label = 1`, we will plot it as red square\n",
    "- if the test point has `label = -1`, we will plot it as red cross\n",
    "\n",
    "We will use same shapes for each label with the training data, but differentitate by the red color"
   ]
  },
  {
   "cell_type": "code",
   "execution_count": 11,
   "metadata": {},
   "outputs": [
    {
     "data": {
      "text/plain": [
       "<matplotlib.axes._subplots.AxesSubplot at 0x7f737969ccc0>"
      ]
     },
     "execution_count": 11,
     "metadata": {},
     "output_type": "execute_result"
    },
    {
     "data": {
      "image/png": "[encoded data removed]",
      "text/plain": [
       "<Figure size 504x504 with 1 Axes>"
      ]
     },
     "metadata": {
      "needs_background": "light"
     },
     "output_type": "display_data"
    }
   ],
   "source": [
    "# Plot the training data and the regression line\n",
    "fig, ax = plt.subplots(1, 1, figsize=(7,7))\n",
    "sns.scatterplot(train[train.label==1].x, train[train.label==1].y, color='black', marker='s')\n",
    "sns.scatterplot(train[train.label==-1].x, train[train.label==-1].y, color='green', marker='+')\n",
    "sns.lineplot([0, 100], [0, 100], color='blue')\n",
    "\n",
    "# Add the predictions to the test set\n",
    "test['pred'] = predictions\n",
    "\n",
    "# Plot the test data\n",
    "sns.scatterplot(test[test.pred==1].x, test[test.pred==1].y, color='red', marker='s')\n",
    "sns.scatterplot(test[test.pred==-1].x, test[test.pred==-1].y, color='red', marker='+')"
   ]
  },
  {
   "cell_type": "markdown",
   "metadata": {},
   "source": [
    "From the graph, we can see that all the points in test set (in red squares and crosses) are classified correctly.\n",
    "\n",
    "## What's next?\n",
    "- Perceptron is the basic building block for Neural Networks and Deep Learning, we can start look into these algorithm to train better model\n",
    "\n",
    "## Resources\n",
    "- [Neural Networks - Intelligence and Learning - The Coding Traing](https://www.youtube.com/playlist?list=PLRqwX-V7Uu6Y7MdSCaIfsxc561QI0U0Tb)\n",
    "- [Perceptron Learning Algorithm - Machine Learning cơ bản](https://machinelearningcoban.com/2017/01/21/perceptron/)"
   ]
  },
  {
   "cell_type": "code",
   "execution_count": null,
   "metadata": {},
   "outputs": [],
   "source": []
  }
 ],
 "metadata": {
  "kernelspec": {
   "display_name": "Python 3",
   "language": "python",
   "name": "python3"
  },
  "language_info": {
   "codemirror_mode": {
    "name": "ipython",
    "version": 3
   },
   "file_extension": ".py",
   "mimetype": "text/x-python",
   "name": "python",
   "nbconvert_exporter": "python",
   "pygments_lexer": "ipython3",
   "version": "3.6.7"
  },
  "toc": {
   "base_numbering": 1,
   "nav_menu": {},
   "number_sections": true,
   "sideBar": true,
   "skip_h1_title": false,
   "title_cell": "Table of Contents",
   "title_sidebar": "Contents",
   "toc_cell": false,
   "toc_position": {},
   "toc_section_display": true,
   "toc_window_display": false
  },
  "varInspector": {
   "cols": {
    "lenName": 16,
    "lenType": 16,
    "lenVar": 40
   },
   "kernels_config": {
    "python": {
     "delete_cmd_postfix": "",
     "delete_cmd_prefix": "del ",
     "library": "var_list.py",
     "varRefreshCmd": "print(var_dic_list())"
    },
    "r": {
     "delete_cmd_postfix": ") ",
     "delete_cmd_prefix": "rm(",
     "library": "var_list.r",
     "varRefreshCmd": "cat(var_dic_list()) "
    }
   },
   "types_to_exclude": [
    "module",
    "function",
    "builtin_function_or_method",
    "instance",
    "_Feature"
   ],
   "window_display": false
  }
 },
 "nbformat": 4,
 "nbformat_minor": 2
}
